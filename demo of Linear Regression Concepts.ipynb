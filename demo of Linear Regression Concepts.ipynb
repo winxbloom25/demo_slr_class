{
 "cells": [
  {
   "cell_type": "code",
   "execution_count": 1,
   "id": "cca2bd87",
   "metadata": {},
   "outputs": [],
   "source": [
    "import warnings\n",
    "warnings.filterwarnings(\"ignore\")"
   ]
  },
  {
   "cell_type": "code",
   "execution_count": 2,
   "id": "3589846b",
   "metadata": {},
   "outputs": [],
   "source": [
    "import numpy as np\n",
    "import pandas as pd\n",
    "from sklearn.linear_model import LinearRegression\n",
    "from sklearn.model_selection import train_test_split\n",
    "import matplotlib.pyplot as plt"
   ]
  },
  {
   "cell_type": "code",
   "execution_count": 3,
   "id": "c49e962c",
   "metadata": {},
   "outputs": [],
   "source": [
    "import random\n",
    "random.seed(0)"
   ]
  },
  {
   "cell_type": "code",
   "execution_count": 4,
   "id": "257c4192",
   "metadata": {},
   "outputs": [],
   "source": [
    "# read dataset"
   ]
  },
  {
   "cell_type": "raw",
   "id": "800906d9",
   "metadata": {},
   "source": [
    "CRIM\trepresents crime per capita by city.\n",
    "ZN\tThe proportion of residential areas in a given area.\n",
    "INDUS\tThe proportion of acres dedicated to retail in the city.\n",
    "CHAS\tBinary variable (= 1 if the tracks cross the river and 0 otherwise).\n",
    "NOX\tNitric oxide concentration (parts per million).\n",
    "RM\tAverage number of rooms per dwelling.\n",
    "AGE\tProportion of owner-occupied buildings, built before 1940.\n",
    "DIS\tRepresents the weighted distance to five employment centers in Boston.\n",
    "RAD\tRadial road accessibility index.\n",
    "TAX\tTotal value of the tax rate per 10,000 dollars.**\n",
    "PTRATIO\tRepresents the ratio of students per teacher by city.**\n",
    "B\tValue defined as 1000 (Bk0.63) 2 where Bk is the proportion of African Americans in the city.**\n",
    "LSTAT\tPercentage of lower class in the population.**\n",
    "MEDV\tMedian value of owner-occupied homes at $ 1,000.**\n",
    "\n",
    "Target column is : MEDV"
   ]
  },
  {
   "cell_type": "code",
   "execution_count": 5,
   "id": "7b672a66",
   "metadata": {},
   "outputs": [
    {
     "data": {
      "text/html": [
       "<div>\n",
       "<style scoped>\n",
       "    .dataframe tbody tr th:only-of-type {\n",
       "        vertical-align: middle;\n",
       "    }\n",
       "\n",
       "    .dataframe tbody tr th {\n",
       "        vertical-align: top;\n",
       "    }\n",
       "\n",
       "    .dataframe thead th {\n",
       "        text-align: right;\n",
       "    }\n",
       "</style>\n",
       "<table border=\"1\" class=\"dataframe\">\n",
       "  <thead>\n",
       "    <tr style=\"text-align: right;\">\n",
       "      <th></th>\n",
       "      <th>CRIM</th>\n",
       "      <th>ZN</th>\n",
       "      <th>INDUS</th>\n",
       "      <th>CHAS</th>\n",
       "      <th>NOX</th>\n",
       "      <th>RM</th>\n",
       "      <th>AGE</th>\n",
       "      <th>DIS</th>\n",
       "      <th>RAD</th>\n",
       "      <th>TAX</th>\n",
       "      <th>PTRATIO</th>\n",
       "      <th>B</th>\n",
       "      <th>LSTAT</th>\n",
       "      <th>MEDV</th>\n",
       "    </tr>\n",
       "  </thead>\n",
       "  <tbody>\n",
       "    <tr>\n",
       "      <th>0</th>\n",
       "      <td>0.00632</td>\n",
       "      <td>18.0</td>\n",
       "      <td>2.31</td>\n",
       "      <td>0</td>\n",
       "      <td>0.538</td>\n",
       "      <td>6.575</td>\n",
       "      <td>65.2</td>\n",
       "      <td>4.0900</td>\n",
       "      <td>1</td>\n",
       "      <td>296</td>\n",
       "      <td>15.3</td>\n",
       "      <td>396.90</td>\n",
       "      <td>4.98</td>\n",
       "      <td>24.0</td>\n",
       "    </tr>\n",
       "    <tr>\n",
       "      <th>1</th>\n",
       "      <td>0.02731</td>\n",
       "      <td>0.0</td>\n",
       "      <td>7.07</td>\n",
       "      <td>0</td>\n",
       "      <td>0.469</td>\n",
       "      <td>6.421</td>\n",
       "      <td>78.9</td>\n",
       "      <td>4.9671</td>\n",
       "      <td>2</td>\n",
       "      <td>242</td>\n",
       "      <td>17.8</td>\n",
       "      <td>396.90</td>\n",
       "      <td>9.14</td>\n",
       "      <td>21.6</td>\n",
       "    </tr>\n",
       "    <tr>\n",
       "      <th>2</th>\n",
       "      <td>0.02729</td>\n",
       "      <td>0.0</td>\n",
       "      <td>7.07</td>\n",
       "      <td>0</td>\n",
       "      <td>0.469</td>\n",
       "      <td>7.185</td>\n",
       "      <td>61.1</td>\n",
       "      <td>4.9671</td>\n",
       "      <td>2</td>\n",
       "      <td>242</td>\n",
       "      <td>17.8</td>\n",
       "      <td>392.83</td>\n",
       "      <td>4.03</td>\n",
       "      <td>34.7</td>\n",
       "    </tr>\n",
       "  </tbody>\n",
       "</table>\n",
       "</div>"
      ],
      "text/plain": [
       "      CRIM    ZN  INDUS  CHAS    NOX     RM   AGE     DIS  RAD  TAX  PTRATIO  \\\n",
       "0  0.00632  18.0   2.31     0  0.538  6.575  65.2  4.0900    1  296     15.3   \n",
       "1  0.02731   0.0   7.07     0  0.469  6.421  78.9  4.9671    2  242     17.8   \n",
       "2  0.02729   0.0   7.07     0  0.469  7.185  61.1  4.9671    2  242     17.8   \n",
       "\n",
       "        B  LSTAT  MEDV  \n",
       "0  396.90   4.98  24.0  \n",
       "1  396.90   9.14  21.6  \n",
       "2  392.83   4.03  34.7  "
      ]
     },
     "execution_count": 5,
     "metadata": {},
     "output_type": "execute_result"
    }
   ],
   "source": [
    "df = pd.read_csv(\"boston.csv\")\n",
    "df.head(3)"
   ]
  },
  {
   "cell_type": "code",
   "execution_count": 6,
   "id": "43d018cc",
   "metadata": {},
   "outputs": [
    {
     "data": {
      "text/html": [
       "<div>\n",
       "<style scoped>\n",
       "    .dataframe tbody tr th:only-of-type {\n",
       "        vertical-align: middle;\n",
       "    }\n",
       "\n",
       "    .dataframe tbody tr th {\n",
       "        vertical-align: top;\n",
       "    }\n",
       "\n",
       "    .dataframe thead th {\n",
       "        text-align: right;\n",
       "    }\n",
       "</style>\n",
       "<table border=\"1\" class=\"dataframe\">\n",
       "  <thead>\n",
       "    <tr style=\"text-align: right;\">\n",
       "      <th></th>\n",
       "      <th>CRIM</th>\n",
       "      <th>ZN</th>\n",
       "      <th>INDUS</th>\n",
       "      <th>CHAS</th>\n",
       "      <th>NOX</th>\n",
       "      <th>RM</th>\n",
       "      <th>AGE</th>\n",
       "      <th>DIS</th>\n",
       "      <th>RAD</th>\n",
       "      <th>TAX</th>\n",
       "      <th>PTRATIO</th>\n",
       "      <th>B</th>\n",
       "      <th>LSTAT</th>\n",
       "      <th>MEDV</th>\n",
       "    </tr>\n",
       "  </thead>\n",
       "  <tbody>\n",
       "    <tr>\n",
       "      <th>503</th>\n",
       "      <td>0.06076</td>\n",
       "      <td>0.0</td>\n",
       "      <td>11.93</td>\n",
       "      <td>0</td>\n",
       "      <td>0.573</td>\n",
       "      <td>6.976</td>\n",
       "      <td>91.0</td>\n",
       "      <td>2.1675</td>\n",
       "      <td>1</td>\n",
       "      <td>273</td>\n",
       "      <td>21.0</td>\n",
       "      <td>396.90</td>\n",
       "      <td>5.64</td>\n",
       "      <td>23.9</td>\n",
       "    </tr>\n",
       "    <tr>\n",
       "      <th>504</th>\n",
       "      <td>0.10959</td>\n",
       "      <td>0.0</td>\n",
       "      <td>11.93</td>\n",
       "      <td>0</td>\n",
       "      <td>0.573</td>\n",
       "      <td>6.794</td>\n",
       "      <td>89.3</td>\n",
       "      <td>2.3889</td>\n",
       "      <td>1</td>\n",
       "      <td>273</td>\n",
       "      <td>21.0</td>\n",
       "      <td>393.45</td>\n",
       "      <td>6.48</td>\n",
       "      <td>22.0</td>\n",
       "    </tr>\n",
       "    <tr>\n",
       "      <th>505</th>\n",
       "      <td>0.04741</td>\n",
       "      <td>0.0</td>\n",
       "      <td>11.93</td>\n",
       "      <td>0</td>\n",
       "      <td>0.573</td>\n",
       "      <td>6.030</td>\n",
       "      <td>80.8</td>\n",
       "      <td>2.5050</td>\n",
       "      <td>1</td>\n",
       "      <td>273</td>\n",
       "      <td>21.0</td>\n",
       "      <td>396.90</td>\n",
       "      <td>7.88</td>\n",
       "      <td>11.9</td>\n",
       "    </tr>\n",
       "  </tbody>\n",
       "</table>\n",
       "</div>"
      ],
      "text/plain": [
       "        CRIM   ZN  INDUS  CHAS    NOX     RM   AGE     DIS  RAD  TAX  PTRATIO  \\\n",
       "503  0.06076  0.0  11.93     0  0.573  6.976  91.0  2.1675    1  273     21.0   \n",
       "504  0.10959  0.0  11.93     0  0.573  6.794  89.3  2.3889    1  273     21.0   \n",
       "505  0.04741  0.0  11.93     0  0.573  6.030  80.8  2.5050    1  273     21.0   \n",
       "\n",
       "          B  LSTAT  MEDV  \n",
       "503  396.90   5.64  23.9  \n",
       "504  393.45   6.48  22.0  \n",
       "505  396.90   7.88  11.9  "
      ]
     },
     "execution_count": 6,
     "metadata": {},
     "output_type": "execute_result"
    }
   ],
   "source": [
    "df.tail(3)"
   ]
  },
  {
   "cell_type": "code",
   "execution_count": 7,
   "id": "1b7fb9d3",
   "metadata": {},
   "outputs": [
    {
     "data": {
      "text/plain": [
       "(506, 14)"
      ]
     },
     "execution_count": 7,
     "metadata": {},
     "output_type": "execute_result"
    }
   ],
   "source": [
    "# check shape, observe row:col ratio\n",
    "df.shape"
   ]
  },
  {
   "cell_type": "code",
   "execution_count": 8,
   "id": "f1bb6780",
   "metadata": {},
   "outputs": [
    {
     "data": {
      "text/plain": [
       "CRIM       float64\n",
       "ZN         float64\n",
       "INDUS      float64\n",
       "CHAS         int64\n",
       "NOX        float64\n",
       "RM         float64\n",
       "AGE        float64\n",
       "DIS        float64\n",
       "RAD          int64\n",
       "TAX          int64\n",
       "PTRATIO    float64\n",
       "B          float64\n",
       "LSTAT      float64\n",
       "MEDV       float64\n",
       "dtype: object"
      ]
     },
     "execution_count": 8,
     "metadata": {},
     "output_type": "execute_result"
    }
   ],
   "source": [
    "# dtypes\n",
    "df.dtypes"
   ]
  },
  {
   "cell_type": "code",
   "execution_count": 9,
   "id": "42044e27",
   "metadata": {},
   "outputs": [],
   "source": [
    "# CHAS could have been a category\n",
    "df.CHAS = df.CHAS.astype(\"object\")"
   ]
  },
  {
   "cell_type": "code",
   "execution_count": 10,
   "id": "5d932fe3",
   "metadata": {},
   "outputs": [
    {
     "data": {
      "text/plain": [
       "CRIM       float64\n",
       "ZN         float64\n",
       "INDUS      float64\n",
       "CHAS        object\n",
       "NOX        float64\n",
       "RM         float64\n",
       "AGE        float64\n",
       "DIS        float64\n",
       "RAD          int64\n",
       "TAX          int64\n",
       "PTRATIO    float64\n",
       "B          float64\n",
       "LSTAT      float64\n",
       "MEDV       float64\n",
       "dtype: object"
      ]
     },
     "execution_count": 10,
     "metadata": {},
     "output_type": "execute_result"
    }
   ],
   "source": [
    "df.dtypes"
   ]
  },
  {
   "cell_type": "code",
   "execution_count": 11,
   "id": "961644e1",
   "metadata": {},
   "outputs": [],
   "source": [
    "# check for missing values and outliers"
   ]
  },
  {
   "cell_type": "code",
   "execution_count": 12,
   "id": "6be52a7c",
   "metadata": {},
   "outputs": [
    {
     "data": {
      "text/plain": [
       "CRIM       0\n",
       "ZN         0\n",
       "INDUS      0\n",
       "CHAS       0\n",
       "NOX        0\n",
       "RM         0\n",
       "AGE        0\n",
       "DIS        0\n",
       "RAD        0\n",
       "TAX        0\n",
       "PTRATIO    0\n",
       "B          0\n",
       "LSTAT      0\n",
       "MEDV       0\n",
       "dtype: int64"
      ]
     },
     "execution_count": 12,
     "metadata": {},
     "output_type": "execute_result"
    }
   ],
   "source": [
    "df.isna().sum()"
   ]
  },
  {
   "cell_type": "code",
   "execution_count": 13,
   "id": "f39cd858",
   "metadata": {},
   "outputs": [],
   "source": [
    "# calculate Q1, Q3 and IQR to filter out outliers\n",
    "df_num = df.select_dtypes(\"number\")"
   ]
  },
  {
   "cell_type": "code",
   "execution_count": 14,
   "id": "7220885c",
   "metadata": {},
   "outputs": [],
   "source": [
    "Q1 = df_num.quantile(0.25)\n",
    "Q3 = df_num.quantile(0.75)\n",
    "IQR = Q3-Q1\n",
    "UT = Q3 + 1.5*IQR\n",
    "LT = Q1 - 1.5*IQR\n",
    "df_trim = df[~((df_num > UT) | (df_num < LT)).any(axis='columns')]"
   ]
  },
  {
   "cell_type": "code",
   "execution_count": 15,
   "id": "128d826e",
   "metadata": {},
   "outputs": [],
   "source": [
    "y = df_trim.MEDV"
   ]
  },
  {
   "cell_type": "code",
   "execution_count": 16,
   "id": "3e2acaca",
   "metadata": {},
   "outputs": [],
   "source": [
    "df_features = df_trim.iloc[:,:-1]\n",
    "df_X_num = df_features.select_dtypes(\"number\")\n",
    "df_X_cat = df_features.select_dtypes(\"object\")"
   ]
  },
  {
   "cell_type": "code",
   "execution_count": 17,
   "id": "decf96e9",
   "metadata": {},
   "outputs": [
    {
     "data": {
      "text/plain": [
       "((288, 12), (288, 1))"
      ]
     },
     "execution_count": 17,
     "metadata": {},
     "output_type": "execute_result"
    }
   ],
   "source": [
    "df_X_num.shape, df_X_cat.shape"
   ]
  },
  {
   "cell_type": "code",
   "execution_count": 18,
   "id": "b216e8f9",
   "metadata": {},
   "outputs": [],
   "source": [
    "# descriptive statistics, plots\n",
    "\n",
    "### univariate analysis\n",
    "### bivariate analysis\n",
    "### multivariate analysis"
   ]
  },
  {
   "cell_type": "code",
   "execution_count": 19,
   "id": "4794206e",
   "metadata": {},
   "outputs": [],
   "source": [
    "# rescaling of numeric columns\n",
    "df_X_num_rescaled = (df_X_num - df_X_num.mean())/df_X_num.std(ddof=1)"
   ]
  },
  {
   "cell_type": "code",
   "execution_count": 20,
   "id": "a1aa597b",
   "metadata": {},
   "outputs": [
    {
     "data": {
      "text/plain": [
       "CHAS\n",
       "0    268\n",
       "1     20\n",
       "Name: count, dtype: int64"
      ]
     },
     "execution_count": 20,
     "metadata": {},
     "output_type": "execute_result"
    }
   ],
   "source": [
    "# encoding of category columns\n",
    "df_X_cat.CHAS.value_counts()\n",
    "# there is only one column, two class and it is encoded already "
   ]
  },
  {
   "cell_type": "code",
   "execution_count": 21,
   "id": "73c8ba90",
   "metadata": {},
   "outputs": [],
   "source": [
    "# merging of the num and category columns\n",
    "df_X_concat = pd.concat([df_X_num,df_X_cat],axis='columns')"
   ]
  },
  {
   "cell_type": "code",
   "execution_count": 22,
   "id": "be446020",
   "metadata": {},
   "outputs": [],
   "source": [
    "X = df_X_concat\n",
    "# y = df_trim['MEDV'] # already has this"
   ]
  },
  {
   "cell_type": "code",
   "execution_count": 23,
   "id": "3b55d505",
   "metadata": {},
   "outputs": [],
   "source": [
    "# split into train and test\n",
    "X_train, X_test, y_train, y_test = train_test_split(X, y, test_size=0.3, random_state=0)"
   ]
  },
  {
   "cell_type": "code",
   "execution_count": 24,
   "id": "50cdc284",
   "metadata": {},
   "outputs": [
    {
     "data": {
      "text/plain": [
       "((201, 13), (87, 13), (201,), (87,))"
      ]
     },
     "execution_count": 24,
     "metadata": {},
     "output_type": "execute_result"
    }
   ],
   "source": [
    "X_train.shape,X_test.shape,y_train.shape,y_test.shape"
   ]
  },
  {
   "cell_type": "code",
   "execution_count": 25,
   "id": "df1e0488",
   "metadata": {},
   "outputs": [
    {
     "data": {
      "image/png": "[encoded data removed]",
      "text/plain": [
       "<Figure size 640x480 with 1 Axes>"
      ]
     },
     "metadata": {},
     "output_type": "display_data"
    }
   ],
   "source": [
    "plt.scatter(X.RM,y);"
   ]
  },
  {
   "cell_type": "code",
   "execution_count": 26,
   "id": "3d932495",
   "metadata": {},
   "outputs": [
    {
     "data": {
      "image/png": "[encoded data removed]",
      "text/plain": [
       "<Figure size 640x480 with 1 Axes>"
      ]
     },
     "metadata": {},
     "output_type": "display_data"
    }
   ],
   "source": [
    "# visualizing split\n",
    "plt.scatter(X_train.RM,y_train,c='b');\n",
    "plt.scatter(X_test.RM,y_test,c = 'r');\n",
    "plt.show()"
   ]
  },
  {
   "cell_type": "markdown",
   "id": "66e1a7a6",
   "metadata": {},
   "source": [
    "# SLR model: fit a model with only one feature"
   ]
  },
  {
   "cell_type": "code",
   "execution_count": 27,
   "id": "b0f1af4c",
   "metadata": {},
   "outputs": [],
   "source": [
    "lm = LinearRegression()\n",
    "model = lm.fit(X_train[['RM']],y_train)"
   ]
  },
  {
   "cell_type": "code",
   "execution_count": 28,
   "id": "7b085ea2",
   "metadata": {},
   "outputs": [
    {
     "data": {
      "text/plain": [
       "(-22.92656744593298, array([7.20572292]))"
      ]
     },
     "execution_count": 28,
     "metadata": {},
     "output_type": "execute_result"
    }
   ],
   "source": [
    "model.intercept_, model.coef_"
   ]
  },
  {
   "cell_type": "code",
   "execution_count": 29,
   "id": "001f8db0",
   "metadata": {},
   "outputs": [],
   "source": [
    "# display first ten values of the predicted values\n",
    "yhat_train = model.predict(X_train[['RM']])"
   ]
  },
  {
   "cell_type": "code",
   "execution_count": 30,
   "id": "49ac7992",
   "metadata": {},
   "outputs": [],
   "source": [
    "yhat_train_calc = model.intercept_ + model.coef_ * X_train['RM']"
   ]
  },
  {
   "cell_type": "code",
   "execution_count": 31,
   "id": "2003836c",
   "metadata": {},
   "outputs": [
    {
     "data": {
      "text/plain": [
       "(array([19.5007291 , 21.11481103, 23.15403062, 21.22289688, 23.11079628]),\n",
       " 216    19.500729\n",
       " 359    21.114811\n",
       " 357    23.154031\n",
       " 358    21.222897\n",
       " 84     23.110796\n",
       " Name: RM, dtype: float64)"
      ]
     },
     "execution_count": 31,
     "metadata": {},
     "output_type": "execute_result"
    }
   ],
   "source": [
    "yhat_train[0:5], yhat_train_calc[0:5]"
   ]
  },
  {
   "cell_type": "code",
   "execution_count": 32,
   "id": "7326a1d8",
   "metadata": {},
   "outputs": [
    {
     "data": {
      "text/plain": [
       "0.40708950342428096"
      ]
     },
     "execution_count": 32,
     "metadata": {},
     "output_type": "execute_result"
    }
   ],
   "source": [
    "# get R Square from the model\n",
    "model.score(X_train[['RM']],y_train)"
   ]
  },
  {
   "cell_type": "code",
   "execution_count": 33,
   "id": "d6a86d09",
   "metadata": {},
   "outputs": [],
   "source": [
    "# calculate R Square from scratch\n",
    "\n",
    "SST = sum((y_train - np.mean(y_train))**2)\n",
    "SSE = sum((y_train - yhat_train)**2)\n",
    "SSR = sum((yhat_train - np.mean(y_train))**2)"
   ]
  },
  {
   "cell_type": "code",
   "execution_count": 34,
   "id": "f43ddb71",
   "metadata": {},
   "outputs": [
    {
     "data": {
      "text/plain": [
       "(4756.760000000002, 4756.760000000002)"
      ]
     },
     "execution_count": 34,
     "metadata": {},
     "output_type": "execute_result"
    }
   ],
   "source": [
    "SSE + SSR, SST"
   ]
  },
  {
   "cell_type": "code",
   "execution_count": 35,
   "id": "4287b986",
   "metadata": {},
   "outputs": [],
   "source": [
    "model_slr_r_square = SSR/SST"
   ]
  },
  {
   "cell_type": "code",
   "execution_count": 36,
   "id": "1bd4dcfb",
   "metadata": {},
   "outputs": [],
   "source": [
    "# predict y_test using the model\n",
    "yhat_test = model.predict(X_test[['RM']])"
   ]
  },
  {
   "cell_type": "code",
   "execution_count": 37,
   "id": "3bd5254e",
   "metadata": {},
   "outputs": [
    {
     "data": {
      "text/plain": [
       "(14.03150713279362, 8.959224363187621)"
      ]
     },
     "execution_count": 37,
     "metadata": {},
     "output_type": "execute_result"
    }
   ],
   "source": [
    "# compute MSE on train and test\n",
    "model_slr_MSE_train = np.mean((y_train - yhat_train)**2)\n",
    "model_slr_MSE_test = np.mean((y_test - yhat_test)**2)\n",
    "model_slr_MSE_train, model_slr_MSE_test"
   ]
  },
  {
   "cell_type": "code",
   "execution_count": 38,
   "id": "7d2ab7cb",
   "metadata": {},
   "outputs": [],
   "source": [
    "# compute MAPE on train and test\n",
    "model_slr_MAPE_train = np.mean((abs(y_train - yhat_train)/y_train)*100)\n",
    "model_slr_MAPE_test = np.mean((abs(y_test - yhat_test)/y_test)*100)"
   ]
  },
  {
   "cell_type": "code",
   "execution_count": 39,
   "id": "88f24e3b",
   "metadata": {},
   "outputs": [],
   "source": [
    "model_slr_performance = {'model':\"model_slr\",'R Sq':model_slr_r_square,'train_MSE':model_slr_MSE_train,'test_MSE':model_slr_MSE_test,'train_MAPE':model_slr_MAPE_train,'test_MAPE':model_slr_MAPE_test}"
   ]
  },
  {
   "cell_type": "code",
   "execution_count": 40,
   "id": "82d3daa6",
   "metadata": {},
   "outputs": [
    {
     "data": {
      "text/html": [
       "<div>\n",
       "<style scoped>\n",
       "    .dataframe tbody tr th:only-of-type {\n",
       "        vertical-align: middle;\n",
       "    }\n",
       "\n",
       "    .dataframe tbody tr th {\n",
       "        vertical-align: top;\n",
       "    }\n",
       "\n",
       "    .dataframe thead th {\n",
       "        text-align: right;\n",
       "    }\n",
       "</style>\n",
       "<table border=\"1\" class=\"dataframe\">\n",
       "  <thead>\n",
       "    <tr style=\"text-align: right;\">\n",
       "      <th></th>\n",
       "      <th>model</th>\n",
       "      <th>R Sq</th>\n",
       "      <th>train_MSE</th>\n",
       "      <th>test_MSE</th>\n",
       "      <th>train_MAPE</th>\n",
       "      <th>test_MAPE</th>\n",
       "    </tr>\n",
       "  </thead>\n",
       "  <tbody>\n",
       "  </tbody>\n",
       "</table>\n",
       "</div>"
      ],
      "text/plain": [
       "Empty DataFrame\n",
       "Columns: [model, R Sq, train_MSE, test_MSE, train_MAPE, test_MAPE]\n",
       "Index: []"
      ]
     },
     "execution_count": 40,
     "metadata": {},
     "output_type": "execute_result"
    }
   ],
   "source": [
    "df_snapshot = pd.DataFrame(columns=['model','R Sq','train_MSE','test_MSE','train_MAPE','test_MAPE'])\n",
    "df_snapshot"
   ]
  },
  {
   "cell_type": "code",
   "execution_count": 41,
   "id": "b9790956",
   "metadata": {},
   "outputs": [
    {
     "data": {
      "text/plain": [
       "{'model': 'model_slr',\n",
       " 'R Sq': 0.4070895034242811,\n",
       " 'train_MSE': 14.03150713279362,\n",
       " 'test_MSE': 8.959224363187621,\n",
       " 'train_MAPE': 13.989402066084063,\n",
       " 'test_MAPE': 11.373900238129833}"
      ]
     },
     "execution_count": 41,
     "metadata": {},
     "output_type": "execute_result"
    }
   ],
   "source": [
    "model_slr_performance"
   ]
  },
  {
   "cell_type": "code",
   "execution_count": 42,
   "id": "94e15c4e",
   "metadata": {},
   "outputs": [
    {
     "ename": "AttributeError",
     "evalue": "'DataFrame' object has no attribute 'append'",
     "output_type": "error",
     "traceback": [
      "\u001b[1;31m---------------------------------------------------------------------------\u001b[0m",
      "\u001b[1;31mAttributeError\u001b[0m                            Traceback (most recent call last)",
      "Cell \u001b[1;32mIn[42], line 1\u001b[0m\n\u001b[1;32m----> 1\u001b[0m df_snapshot \u001b[38;5;241m=\u001b[39m \u001b[43mdf_snapshot\u001b[49m\u001b[38;5;241;43m.\u001b[39;49m\u001b[43mappend\u001b[49m(model_slr_performance,ignore_index\u001b[38;5;241m=\u001b[39m\u001b[38;5;28;01mTrue\u001b[39;00m)\n",
      "File \u001b[1;32m~\\AppData\\Roaming\\Python\\Python310\\site-packages\\pandas\\core\\generic.py:5989\u001b[0m, in \u001b[0;36mNDFrame.__getattr__\u001b[1;34m(self, name)\u001b[0m\n\u001b[0;32m   5982\u001b[0m \u001b[38;5;28;01mif\u001b[39;00m (\n\u001b[0;32m   5983\u001b[0m     name \u001b[38;5;129;01mnot\u001b[39;00m \u001b[38;5;129;01min\u001b[39;00m \u001b[38;5;28mself\u001b[39m\u001b[38;5;241m.\u001b[39m_internal_names_set\n\u001b[0;32m   5984\u001b[0m     \u001b[38;5;129;01mand\u001b[39;00m name \u001b[38;5;129;01mnot\u001b[39;00m \u001b[38;5;129;01min\u001b[39;00m \u001b[38;5;28mself\u001b[39m\u001b[38;5;241m.\u001b[39m_metadata\n\u001b[0;32m   5985\u001b[0m     \u001b[38;5;129;01mand\u001b[39;00m name \u001b[38;5;129;01mnot\u001b[39;00m \u001b[38;5;129;01min\u001b[39;00m \u001b[38;5;28mself\u001b[39m\u001b[38;5;241m.\u001b[39m_accessors\n\u001b[0;32m   5986\u001b[0m     \u001b[38;5;129;01mand\u001b[39;00m \u001b[38;5;28mself\u001b[39m\u001b[38;5;241m.\u001b[39m_info_axis\u001b[38;5;241m.\u001b[39m_can_hold_identifiers_and_holds_name(name)\n\u001b[0;32m   5987\u001b[0m ):\n\u001b[0;32m   5988\u001b[0m     \u001b[38;5;28;01mreturn\u001b[39;00m \u001b[38;5;28mself\u001b[39m[name]\n\u001b[1;32m-> 5989\u001b[0m \u001b[38;5;28;01mreturn\u001b[39;00m \u001b[38;5;28;43mobject\u001b[39;49m\u001b[38;5;241;43m.\u001b[39;49m\u001b[38;5;21;43m__getattribute__\u001b[39;49m\u001b[43m(\u001b[49m\u001b[38;5;28;43mself\u001b[39;49m\u001b[43m,\u001b[49m\u001b[43m \u001b[49m\u001b[43mname\u001b[49m\u001b[43m)\u001b[49m\n",
      "\u001b[1;31mAttributeError\u001b[0m: 'DataFrame' object has no attribute 'append'"
     ]
    }
   ],
   "source": [
    "df_snapshot = df_snapshot.append(model_slr_performance,ignore_index=True)"
   ]
  },
  {
   "cell_type": "code",
   "execution_count": null,
   "id": "3b5c1f96",
   "metadata": {},
   "outputs": [],
   "source": [
    "df_snapshot"
   ]
  },
  {
   "cell_type": "markdown",
   "id": "b281e37b",
   "metadata": {},
   "source": [
    "# visualize the model"
   ]
  },
  {
   "cell_type": "code",
   "execution_count": 43,
   "id": "45cc0932",
   "metadata": {},
   "outputs": [
    {
     "data": {
      "image/png": "[encoded data removed]",
      "text/plain": [
       "<Figure size 640x480 with 1 Axes>"
      ]
     },
     "metadata": {},
     "output_type": "display_data"
    }
   ],
   "source": [
    "# plot the train data points, shows positive correlation between feature and label\n",
    "\n",
    "plt.scatter(X_train.RM,y_train);"
   ]
  },
  {
   "cell_type": "code",
   "execution_count": 44,
   "id": "c6121c0e",
   "metadata": {},
   "outputs": [
    {
     "data": {
      "text/plain": [
       "[<matplotlib.lines.Line2D at 0x1cc0ce3e710>]"
      ]
     },
     "execution_count": 44,
     "metadata": {},
     "output_type": "execute_result"
    },
    {
     "data": {
      "image/png": "[encoded data removed]",
      "text/plain": [
       "<Figure size 640x480 with 1 Axes>"
      ]
     },
     "metadata": {},
     "output_type": "display_data"
    }
   ],
   "source": [
    "# plot the line\n",
    "plt.plot(X_train.RM,yhat_train)"
   ]
  },
  {
   "cell_type": "code",
   "execution_count": 45,
   "id": "7344a218",
   "metadata": {},
   "outputs": [
    {
     "data": {
      "image/png": "[encoded data removed]",
      "text/plain": [
       "<Figure size 640x480 with 1 Axes>"
      ]
     },
     "metadata": {},
     "output_type": "display_data"
    }
   ],
   "source": [
    "# combine them\n",
    "plt.scatter(X_train.RM,y_train);\n",
    "plt.plot(X_train.RM,yhat_train,'r');\n",
    "plt.show()"
   ]
  },
  {
   "cell_type": "code",
   "execution_count": null,
   "id": "4ac5e879",
   "metadata": {},
   "outputs": [],
   "source": [
    "# how well is the line explaining test data\n",
    "plt.scatter(X_test.RM,y_test);\n",
    "plt.plot(X_train.RM,yhat_train,'r');\n",
    "plt.show()"
   ]
  },
  {
   "cell_type": "markdown",
   "id": "afb893e6",
   "metadata": {},
   "source": [
    "### correlation and R Square\n",
    "\n",
    "if r is the correlation between the feature and the label then R Square = r**2\n",
    "\n",
    "greater the correlation between feature and label, better is the fit of the linear model\n",
    "\n",
    "this property applies directly only in SLR. \n",
    "\n",
    "In MLR also, correlation improves R Square but this simple formula does not apply."
   ]
  },
  {
   "cell_type": "code",
   "execution_count": 46,
   "id": "7864e4f4",
   "metadata": {},
   "outputs": [
    {
     "data": {
      "text/plain": [
       "array([[1.        , 0.63803566],\n",
       "       [0.63803566, 1.        ]])"
      ]
     },
     "execution_count": 46,
     "metadata": {},
     "output_type": "execute_result"
    }
   ],
   "source": [
    "np.corrcoef(X_train.RM,y_train)"
   ]
  },
  {
   "cell_type": "code",
   "execution_count": 47,
   "id": "99a2c409",
   "metadata": {},
   "outputs": [
    {
     "data": {
      "text/plain": [
       "0.6380356599942366"
      ]
     },
     "execution_count": 47,
     "metadata": {},
     "output_type": "execute_result"
    }
   ],
   "source": [
    "np.sqrt(model_slr_r_square)"
   ]
  },
  {
   "cell_type": "markdown",
   "id": "85867a74",
   "metadata": {},
   "source": [
    "# Multiple Linear Model\n",
    "Linear regression model which uses two or more features"
   ]
  },
  {
   "cell_type": "code",
   "execution_count": 48,
   "id": "3bf076dc",
   "metadata": {},
   "outputs": [],
   "source": [
    "lm = LinearRegression()\n",
    "model_mlr = lm.fit(X_train[['LSTAT','RM']],y_train)"
   ]
  },
  {
   "cell_type": "code",
   "execution_count": 49,
   "id": "f1d78456",
   "metadata": {},
   "outputs": [
    {
     "data": {
      "text/plain": [
       "0.5770177445483218"
      ]
     },
     "execution_count": 49,
     "metadata": {},
     "output_type": "execute_result"
    }
   ],
   "source": [
    "model_mlr.score(X_train[['LSTAT','RM']],y_train)"
   ]
  },
  {
   "cell_type": "code",
   "execution_count": 50,
   "id": "026e0038",
   "metadata": {},
   "outputs": [
    {
     "data": {
      "text/plain": [
       "(7.057671848119089, array([-0.48995599,  3.31148647]))"
      ]
     },
     "execution_count": 50,
     "metadata": {},
     "output_type": "execute_result"
    }
   ],
   "source": [
    "model_mlr.intercept_, model_mlr.coef_"
   ]
  },
  {
   "cell_type": "code",
   "execution_count": 51,
   "id": "9b674511",
   "metadata": {},
   "outputs": [],
   "source": [
    "yhat_train = model_mlr.predict(X_train[['LSTAT','RM']])"
   ]
  },
  {
   "cell_type": "code",
   "execution_count": 52,
   "id": "4f663d72",
   "metadata": {},
   "outputs": [],
   "source": [
    "yhat_train_calc = model_mlr.intercept_ + model_mlr.coef_[0] * X_train['LSTAT'] + model_mlr.coef_[1] * X_train['RM']"
   ]
  },
  {
   "cell_type": "code",
   "execution_count": 53,
   "id": "de07073c",
   "metadata": {},
   "outputs": [
    {
     "data": {
      "text/plain": [
       "(array([19.93639881, 21.08973481, 21.73291189, 21.72245474, 23.50138233]),\n",
       " 216    19.936399\n",
       " 359    21.089735\n",
       " 357    21.732912\n",
       " 358    21.722455\n",
       " 84     23.501382\n",
       " dtype: float64)"
      ]
     },
     "execution_count": 53,
     "metadata": {},
     "output_type": "execute_result"
    }
   ],
   "source": [
    "yhat_train[0:5], yhat_train_calc[0:5]"
   ]
  },
  {
   "cell_type": "code",
   "execution_count": 54,
   "id": "828cb892",
   "metadata": {},
   "outputs": [],
   "source": [
    "# calculate R Square from scratch\n",
    "\n",
    "SST = sum((y_train - np.mean(y_train))**2)\n",
    "SSE = sum((y_train - yhat_train)**2)\n",
    "SSR = sum((yhat_train - np.mean(y_train))**2)"
   ]
  },
  {
   "cell_type": "code",
   "execution_count": 55,
   "id": "4eee79ba",
   "metadata": {},
   "outputs": [
    {
     "data": {
      "text/plain": [
       "(4756.760000000001, 4756.760000000002)"
      ]
     },
     "execution_count": 55,
     "metadata": {},
     "output_type": "execute_result"
    }
   ],
   "source": [
    "SSE + SSR, SST"
   ]
  },
  {
   "cell_type": "code",
   "execution_count": 56,
   "id": "e1a2951d",
   "metadata": {},
   "outputs": [],
   "source": [
    "model_mlr_r_square = SSR/SST"
   ]
  },
  {
   "cell_type": "code",
   "execution_count": 57,
   "id": "b4ed2404",
   "metadata": {},
   "outputs": [],
   "source": [
    "# predict y_test using the model\n",
    "yhat_test = model_mlr.predict(X_test[['LSTAT','RM']])"
   ]
  },
  {
   "cell_type": "code",
   "execution_count": 58,
   "id": "eacb5032",
   "metadata": {},
   "outputs": [
    {
     "data": {
      "text/plain": [
       "(10.010074992250374, 11.434694409497057)"
      ]
     },
     "execution_count": 58,
     "metadata": {},
     "output_type": "execute_result"
    }
   ],
   "source": [
    "# compute MSE on train and test\n",
    "model_mlr_MSE_train = np.mean((y_train - yhat_train)**2)\n",
    "model_mlr_MSE_test = np.mean((y_test - yhat_test)**2)\n",
    "model_mlr_MSE_train, model_mlr_MSE_test"
   ]
  },
  {
   "cell_type": "code",
   "execution_count": 59,
   "id": "5a777565",
   "metadata": {},
   "outputs": [],
   "source": [
    "# compute MAPE on train and test\n",
    "model_mlr_MAPE_train = np.mean((abs(y_train - yhat_train)/y_train)*100)\n",
    "model_mlr_MAPE_test = np.mean((abs(y_test - yhat_test)/y_test)*100)"
   ]
  },
  {
   "cell_type": "code",
   "execution_count": 60,
   "id": "1b391365",
   "metadata": {},
   "outputs": [],
   "source": [
    "model_mlr_performance = {'model':\"model_mlr\",'R Sq':model_mlr_r_square,'train_MSE':model_mlr_MSE_train,'test_MSE':model_mlr_MSE_test,'train_MAPE':model_mlr_MAPE_train,'test_MAPE':model_mlr_MAPE_test}"
   ]
  },
  {
   "cell_type": "code",
   "execution_count": null,
   "id": "7adad14c",
   "metadata": {},
   "outputs": [],
   "source": [
    "df_snapshot = df_snapshot.append(model_mlr_performance, ignore_index=True)\n",
    "df_snapshot"
   ]
  },
  {
   "cell_type": "raw",
   "id": "cb0d396b",
   "metadata": {},
   "source": [
    "compare performance of models which used one feature and two features:\n",
    "=> on training data: using R Square\n",
    "--> NOTE: for training we will switch to adjusted R Square after learning that. For now, use R Square.\n",
    "\n",
    "With additional feature, R Square improved. This is a measure of the % of variation in label explain by the % of variation in feature(s)\n",
    "\n",
    "=> train and test datasets using MSE\n",
    "\n",
    "SLR had higher train MSE than test.\n",
    "MLR had lesser gap between train and test\n",
    "\n",
    "=> train and test datasets using MAPE\n",
    "\n",
    "SLR had higher MAPE in train than test.\n",
    "MLR had lesser gap between train and test\n"
   ]
  },
  {
   "cell_type": "code",
   "execution_count": 61,
   "id": "f98ccc69",
   "metadata": {},
   "outputs": [],
   "source": [
    "import statsmodels.api as sm"
   ]
  },
  {
   "cell_type": "code",
   "execution_count": 63,
   "id": "4daa0ead",
   "metadata": {},
   "outputs": [],
   "source": [
    "Xrm_train = X_train[['RM']]\n",
    "Xrm_test = X_test[['RM']]"
   ]
  },
  {
   "cell_type": "code",
   "execution_count": 70,
   "id": "7448c972",
   "metadata": {},
   "outputs": [],
   "source": [
    "Xrm_train = sm.add_constant(Xrm_train)"
   ]
  },
  {
   "cell_type": "code",
   "execution_count": 71,
   "id": "7ae4fad1",
   "metadata": {},
   "outputs": [
    {
     "data": {
      "text/html": [
       "<div>\n",
       "<style scoped>\n",
       "    .dataframe tbody tr th:only-of-type {\n",
       "        vertical-align: middle;\n",
       "    }\n",
       "\n",
       "    .dataframe tbody tr th {\n",
       "        vertical-align: top;\n",
       "    }\n",
       "\n",
       "    .dataframe thead th {\n",
       "        text-align: right;\n",
       "    }\n",
       "</style>\n",
       "<table border=\"1\" class=\"dataframe\">\n",
       "  <thead>\n",
       "    <tr style=\"text-align: right;\">\n",
       "      <th></th>\n",
       "      <th>const</th>\n",
       "      <th>RM</th>\n",
       "    </tr>\n",
       "  </thead>\n",
       "  <tbody>\n",
       "    <tr>\n",
       "      <th>216</th>\n",
       "      <td>1.0</td>\n",
       "      <td>5.888</td>\n",
       "    </tr>\n",
       "    <tr>\n",
       "      <th>359</th>\n",
       "      <td>1.0</td>\n",
       "      <td>6.112</td>\n",
       "    </tr>\n",
       "    <tr>\n",
       "      <th>357</th>\n",
       "      <td>1.0</td>\n",
       "      <td>6.395</td>\n",
       "    </tr>\n",
       "    <tr>\n",
       "      <th>358</th>\n",
       "      <td>1.0</td>\n",
       "      <td>6.127</td>\n",
       "    </tr>\n",
       "    <tr>\n",
       "      <th>84</th>\n",
       "      <td>1.0</td>\n",
       "      <td>6.389</td>\n",
       "    </tr>\n",
       "  </tbody>\n",
       "</table>\n",
       "</div>"
      ],
      "text/plain": [
       "     const     RM\n",
       "216    1.0  5.888\n",
       "359    1.0  6.112\n",
       "357    1.0  6.395\n",
       "358    1.0  6.127\n",
       "84     1.0  6.389"
      ]
     },
     "execution_count": 71,
     "metadata": {},
     "output_type": "execute_result"
    }
   ],
   "source": [
    "Xrm_train.head()"
   ]
  },
  {
   "cell_type": "code",
   "execution_count": 72,
   "id": "911203be",
   "metadata": {},
   "outputs": [],
   "source": [
    "sm_model = sm.OLS(y_train,Xrm_train)\n",
    "results = sm_model.fit()"
   ]
  },
  {
   "cell_type": "code",
   "execution_count": 73,
   "id": "eab75bbd",
   "metadata": {},
   "outputs": [
    {
     "data": {
      "text/html": [
       "<table class=\"simpletable\">\n",
       "<caption>OLS Regression Results</caption>\n",
       "<tr>\n",
       "  <th>Dep. Variable:</th>          <td>MEDV</td>       <th>  R-squared:         </th> <td>   0.407</td>\n",
       "</tr>\n",
       "<tr>\n",
       "  <th>Model:</th>                   <td>OLS</td>       <th>  Adj. R-squared:    </th> <td>   0.404</td>\n",
       "</tr>\n",
       "<tr>\n",
       "  <th>Method:</th>             <td>Least Squares</td>  <th>  F-statistic:       </th> <td>   136.6</td>\n",
       "</tr>\n",
       "<tr>\n",
       "  <th>Date:</th>             <td>Fri, 22 Sep 2023</td> <th>  Prob (F-statistic):</th> <td>2.27e-24</td>\n",
       "</tr>\n",
       "<tr>\n",
       "  <th>Time:</th>                 <td>16:31:54</td>     <th>  Log-Likelihood:    </th> <td> -550.66</td>\n",
       "</tr>\n",
       "<tr>\n",
       "  <th>No. Observations:</th>      <td>   201</td>      <th>  AIC:               </th> <td>   1105.</td>\n",
       "</tr>\n",
       "<tr>\n",
       "  <th>Df Residuals:</th>          <td>   199</td>      <th>  BIC:               </th> <td>   1112.</td>\n",
       "</tr>\n",
       "<tr>\n",
       "  <th>Df Model:</th>              <td>     1</td>      <th>                     </th>     <td> </td>   \n",
       "</tr>\n",
       "<tr>\n",
       "  <th>Covariance Type:</th>      <td>nonrobust</td>    <th>                     </th>     <td> </td>   \n",
       "</tr>\n",
       "</table>\n",
       "<table class=\"simpletable\">\n",
       "<tr>\n",
       "    <td></td>       <th>coef</th>     <th>std err</th>      <th>t</th>      <th>P>|t|</th>  <th>[0.025</th>    <th>0.975]</th>  \n",
       "</tr>\n",
       "<tr>\n",
       "  <th>const</th> <td>  -22.9266</td> <td>    3.836</td> <td>   -5.977</td> <td> 0.000</td> <td>  -30.490</td> <td>  -15.363</td>\n",
       "</tr>\n",
       "<tr>\n",
       "  <th>RM</th>    <td>    7.2057</td> <td>    0.616</td> <td>   11.689</td> <td> 0.000</td> <td>    5.990</td> <td>    8.421</td>\n",
       "</tr>\n",
       "</table>\n",
       "<table class=\"simpletable\">\n",
       "<tr>\n",
       "  <th>Omnibus:</th>       <td> 9.424</td> <th>  Durbin-Watson:     </th> <td>   2.192</td>\n",
       "</tr>\n",
       "<tr>\n",
       "  <th>Prob(Omnibus):</th> <td> 0.009</td> <th>  Jarque-Bera (JB):  </th> <td>  19.347</td>\n",
       "</tr>\n",
       "<tr>\n",
       "  <th>Skew:</th>          <td>-0.048</td> <th>  Prob(JB):          </th> <td>6.29e-05</td>\n",
       "</tr>\n",
       "<tr>\n",
       "  <th>Kurtosis:</th>      <td> 4.517</td> <th>  Cond. No.          </th> <td>    92.2</td>\n",
       "</tr>\n",
       "</table><br/><br/>Notes:<br/>[1] Standard Errors assume that the covariance matrix of the errors is correctly specified."
      ],
      "text/latex": [
       "\\begin{center}\n",
       "\\begin{tabular}{lclc}\n",
       "\\toprule\n",
       "\\textbf{Dep. Variable:}    &       MEDV       & \\textbf{  R-squared:         } &     0.407   \\\\\n",
       "\\textbf{Model:}            &       OLS        & \\textbf{  Adj. R-squared:    } &     0.404   \\\\\n",
       "\\textbf{Method:}           &  Least Squares   & \\textbf{  F-statistic:       } &     136.6   \\\\\n",
       "\\textbf{Date:}             & Fri, 22 Sep 2023 & \\textbf{  Prob (F-statistic):} &  2.27e-24   \\\\\n",
       "\\textbf{Time:}             &     16:31:54     & \\textbf{  Log-Likelihood:    } &   -550.66   \\\\\n",
       "\\textbf{No. Observations:} &         201      & \\textbf{  AIC:               } &     1105.   \\\\\n",
       "\\textbf{Df Residuals:}     &         199      & \\textbf{  BIC:               } &     1112.   \\\\\n",
       "\\textbf{Df Model:}         &           1      & \\textbf{                     } &             \\\\\n",
       "\\textbf{Covariance Type:}  &    nonrobust     & \\textbf{                     } &             \\\\\n",
       "\\bottomrule\n",
       "\\end{tabular}\n",
       "\\begin{tabular}{lcccccc}\n",
       "               & \\textbf{coef} & \\textbf{std err} & \\textbf{t} & \\textbf{P$> |$t$|$} & \\textbf{[0.025} & \\textbf{0.975]}  \\\\\n",
       "\\midrule\n",
       "\\textbf{const} &     -22.9266  &        3.836     &    -5.977  &         0.000        &      -30.490    &      -15.363     \\\\\n",
       "\\textbf{RM}    &       7.2057  &        0.616     &    11.689  &         0.000        &        5.990    &        8.421     \\\\\n",
       "\\bottomrule\n",
       "\\end{tabular}\n",
       "\\begin{tabular}{lclc}\n",
       "\\textbf{Omnibus:}       &  9.424 & \\textbf{  Durbin-Watson:     } &    2.192  \\\\\n",
       "\\textbf{Prob(Omnibus):} &  0.009 & \\textbf{  Jarque-Bera (JB):  } &   19.347  \\\\\n",
       "\\textbf{Skew:}          & -0.048 & \\textbf{  Prob(JB):          } & 6.29e-05  \\\\\n",
       "\\textbf{Kurtosis:}      &  4.517 & \\textbf{  Cond. No.          } &     92.2  \\\\\n",
       "\\bottomrule\n",
       "\\end{tabular}\n",
       "%\\caption{OLS Regression Results}\n",
       "\\end{center}\n",
       "\n",
       "Notes: \\newline\n",
       " [1] Standard Errors assume that the covariance matrix of the errors is correctly specified."
      ],
      "text/plain": [
       "<class 'statsmodels.iolib.summary.Summary'>\n",
       "\"\"\"\n",
       "                            OLS Regression Results                            \n",
       "==============================================================================\n",
       "Dep. Variable:                   MEDV   R-squared:                       0.407\n",
       "Model:                            OLS   Adj. R-squared:                  0.404\n",
       "Method:                 Least Squares   F-statistic:                     136.6\n",
       "Date:                Fri, 22 Sep 2023   Prob (F-statistic):           2.27e-24\n",
       "Time:                        16:31:54   Log-Likelihood:                -550.66\n",
       "No. Observations:                 201   AIC:                             1105.\n",
       "Df Residuals:                     199   BIC:                             1112.\n",
       "Df Model:                           1                                         \n",
       "Covariance Type:            nonrobust                                         \n",
       "==============================================================================\n",
       "                 coef    std err          t      P>|t|      [0.025      0.975]\n",
       "------------------------------------------------------------------------------\n",
       "const        -22.9266      3.836     -5.977      0.000     -30.490     -15.363\n",
       "RM             7.2057      0.616     11.689      0.000       5.990       8.421\n",
       "==============================================================================\n",
       "Omnibus:                        9.424   Durbin-Watson:                   2.192\n",
       "Prob(Omnibus):                  0.009   Jarque-Bera (JB):               19.347\n",
       "Skew:                          -0.048   Prob(JB):                     6.29e-05\n",
       "Kurtosis:                       4.517   Cond. No.                         92.2\n",
       "==============================================================================\n",
       "\n",
       "Notes:\n",
       "[1] Standard Errors assume that the covariance matrix of the errors is correctly specified.\n",
       "\"\"\""
      ]
     },
     "execution_count": 73,
     "metadata": {},
     "output_type": "execute_result"
    }
   ],
   "source": [
    "results.summary()"
   ]
  },
  {
   "cell_type": "code",
   "execution_count": 75,
   "id": "a07b329d",
   "metadata": {},
   "outputs": [
    {
     "data": {
      "text/plain": [
       "Index(['CRIM', 'ZN', 'INDUS', 'NOX', 'RM', 'AGE', 'DIS', 'RAD', 'TAX',\n",
       "       'PTRATIO', 'B', 'LSTAT', 'CHAS'],\n",
       "      dtype='object')"
      ]
     },
     "execution_count": 75,
     "metadata": {},
     "output_type": "execute_result"
    }
   ],
   "source": [
    "X_train.columns"
   ]
  },
  {
   "cell_type": "code",
   "execution_count": 78,
   "id": "d631b834",
   "metadata": {},
   "outputs": [],
   "source": [
    "Xrm_train = X_train[['RM','AGE','PTRATIO']]\n",
    "Xrm_test = X_test[['RM','AGE','PTRATIO']]\n",
    "Xrm_train = sm.add_constant(Xrm_train)\n",
    "sm_model = sm.OLS(y_train,Xrm_train)\n",
    "results = sm_model.fit()"
   ]
  },
  {
   "cell_type": "code",
   "execution_count": 79,
   "id": "9fab368f",
   "metadata": {},
   "outputs": [
    {
     "data": {
      "text/html": [
       "<table class=\"simpletable\">\n",
       "<caption>OLS Regression Results</caption>\n",
       "<tr>\n",
       "  <th>Dep. Variable:</th>          <td>MEDV</td>       <th>  R-squared:         </th> <td>   0.596</td>\n",
       "</tr>\n",
       "<tr>\n",
       "  <th>Model:</th>                   <td>OLS</td>       <th>  Adj. R-squared:    </th> <td>   0.590</td>\n",
       "</tr>\n",
       "<tr>\n",
       "  <th>Method:</th>             <td>Least Squares</td>  <th>  F-statistic:       </th> <td>   96.74</td>\n",
       "</tr>\n",
       "<tr>\n",
       "  <th>Date:</th>             <td>Fri, 22 Sep 2023</td> <th>  Prob (F-statistic):</th> <td>1.60e-38</td>\n",
       "</tr>\n",
       "<tr>\n",
       "  <th>Time:</th>                 <td>16:43:55</td>     <th>  Log-Likelihood:    </th> <td> -512.19</td>\n",
       "</tr>\n",
       "<tr>\n",
       "  <th>No. Observations:</th>      <td>   201</td>      <th>  AIC:               </th> <td>   1032.</td>\n",
       "</tr>\n",
       "<tr>\n",
       "  <th>Df Residuals:</th>          <td>   197</td>      <th>  BIC:               </th> <td>   1046.</td>\n",
       "</tr>\n",
       "<tr>\n",
       "  <th>Df Model:</th>              <td>     3</td>      <th>                     </th>     <td> </td>   \n",
       "</tr>\n",
       "<tr>\n",
       "  <th>Covariance Type:</th>      <td>nonrobust</td>    <th>                     </th>     <td> </td>   \n",
       "</tr>\n",
       "</table>\n",
       "<table class=\"simpletable\">\n",
       "<tr>\n",
       "     <td></td>        <th>coef</th>     <th>std err</th>      <th>t</th>      <th>P>|t|</th>  <th>[0.025</th>    <th>0.975]</th>  \n",
       "</tr>\n",
       "<tr>\n",
       "  <th>const</th>   <td>   -3.5234</td> <td>    4.031</td> <td>   -0.874</td> <td> 0.383</td> <td>  -11.473</td> <td>    4.426</td>\n",
       "</tr>\n",
       "<tr>\n",
       "  <th>RM</th>      <td>    6.5588</td> <td>    0.519</td> <td>   12.649</td> <td> 0.000</td> <td>    5.536</td> <td>    7.581</td>\n",
       "</tr>\n",
       "<tr>\n",
       "  <th>AGE</th>     <td>   -0.0609</td> <td>    0.008</td> <td>   -7.230</td> <td> 0.000</td> <td>   -0.078</td> <td>   -0.044</td>\n",
       "</tr>\n",
       "<tr>\n",
       "  <th>PTRATIO</th> <td>   -0.6058</td> <td>    0.129</td> <td>   -4.711</td> <td> 0.000</td> <td>   -0.859</td> <td>   -0.352</td>\n",
       "</tr>\n",
       "</table>\n",
       "<table class=\"simpletable\">\n",
       "<tr>\n",
       "  <th>Omnibus:</th>       <td>25.820</td> <th>  Durbin-Watson:     </th> <td>   1.815</td>\n",
       "</tr>\n",
       "<tr>\n",
       "  <th>Prob(Omnibus):</th> <td> 0.000</td> <th>  Jarque-Bera (JB):  </th> <td>  75.628</td>\n",
       "</tr>\n",
       "<tr>\n",
       "  <th>Skew:</th>          <td> 0.478</td> <th>  Prob(JB):          </th> <td>3.78e-17</td>\n",
       "</tr>\n",
       "<tr>\n",
       "  <th>Kurtosis:</th>      <td> 5.849</td> <th>  Cond. No.          </th> <td>1.36e+03</td>\n",
       "</tr>\n",
       "</table><br/><br/>Notes:<br/>[1] Standard Errors assume that the covariance matrix of the errors is correctly specified.<br/>[2] The condition number is large, 1.36e+03. This might indicate that there are<br/>strong multicollinearity or other numerical problems."
      ],
      "text/latex": [
       "\\begin{center}\n",
       "\\begin{tabular}{lclc}\n",
       "\\toprule\n",
       "\\textbf{Dep. Variable:}    &       MEDV       & \\textbf{  R-squared:         } &     0.596   \\\\\n",
       "\\textbf{Model:}            &       OLS        & \\textbf{  Adj. R-squared:    } &     0.590   \\\\\n",
       "\\textbf{Method:}           &  Least Squares   & \\textbf{  F-statistic:       } &     96.74   \\\\\n",
       "\\textbf{Date:}             & Fri, 22 Sep 2023 & \\textbf{  Prob (F-statistic):} &  1.60e-38   \\\\\n",
       "\\textbf{Time:}             &     16:43:55     & \\textbf{  Log-Likelihood:    } &   -512.19   \\\\\n",
       "\\textbf{No. Observations:} &         201      & \\textbf{  AIC:               } &     1032.   \\\\\n",
       "\\textbf{Df Residuals:}     &         197      & \\textbf{  BIC:               } &     1046.   \\\\\n",
       "\\textbf{Df Model:}         &           3      & \\textbf{                     } &             \\\\\n",
       "\\textbf{Covariance Type:}  &    nonrobust     & \\textbf{                     } &             \\\\\n",
       "\\bottomrule\n",
       "\\end{tabular}\n",
       "\\begin{tabular}{lcccccc}\n",
       "                 & \\textbf{coef} & \\textbf{std err} & \\textbf{t} & \\textbf{P$> |$t$|$} & \\textbf{[0.025} & \\textbf{0.975]}  \\\\\n",
       "\\midrule\n",
       "\\textbf{const}   &      -3.5234  &        4.031     &    -0.874  &         0.383        &      -11.473    &        4.426     \\\\\n",
       "\\textbf{RM}      &       6.5588  &        0.519     &    12.649  &         0.000        &        5.536    &        7.581     \\\\\n",
       "\\textbf{AGE}     &      -0.0609  &        0.008     &    -7.230  &         0.000        &       -0.078    &       -0.044     \\\\\n",
       "\\textbf{PTRATIO} &      -0.6058  &        0.129     &    -4.711  &         0.000        &       -0.859    &       -0.352     \\\\\n",
       "\\bottomrule\n",
       "\\end{tabular}\n",
       "\\begin{tabular}{lclc}\n",
       "\\textbf{Omnibus:}       & 25.820 & \\textbf{  Durbin-Watson:     } &    1.815  \\\\\n",
       "\\textbf{Prob(Omnibus):} &  0.000 & \\textbf{  Jarque-Bera (JB):  } &   75.628  \\\\\n",
       "\\textbf{Skew:}          &  0.478 & \\textbf{  Prob(JB):          } & 3.78e-17  \\\\\n",
       "\\textbf{Kurtosis:}      &  5.849 & \\textbf{  Cond. No.          } & 1.36e+03  \\\\\n",
       "\\bottomrule\n",
       "\\end{tabular}\n",
       "%\\caption{OLS Regression Results}\n",
       "\\end{center}\n",
       "\n",
       "Notes: \\newline\n",
       " [1] Standard Errors assume that the covariance matrix of the errors is correctly specified. \\newline\n",
       " [2] The condition number is large, 1.36e+03. This might indicate that there are \\newline\n",
       " strong multicollinearity or other numerical problems."
      ],
      "text/plain": [
       "<class 'statsmodels.iolib.summary.Summary'>\n",
       "\"\"\"\n",
       "                            OLS Regression Results                            \n",
       "==============================================================================\n",
       "Dep. Variable:                   MEDV   R-squared:                       0.596\n",
       "Model:                            OLS   Adj. R-squared:                  0.590\n",
       "Method:                 Least Squares   F-statistic:                     96.74\n",
       "Date:                Fri, 22 Sep 2023   Prob (F-statistic):           1.60e-38\n",
       "Time:                        16:43:55   Log-Likelihood:                -512.19\n",
       "No. Observations:                 201   AIC:                             1032.\n",
       "Df Residuals:                     197   BIC:                             1046.\n",
       "Df Model:                           3                                         \n",
       "Covariance Type:            nonrobust                                         \n",
       "==============================================================================\n",
       "                 coef    std err          t      P>|t|      [0.025      0.975]\n",
       "------------------------------------------------------------------------------\n",
       "const         -3.5234      4.031     -0.874      0.383     -11.473       4.426\n",
       "RM             6.5588      0.519     12.649      0.000       5.536       7.581\n",
       "AGE           -0.0609      0.008     -7.230      0.000      -0.078      -0.044\n",
       "PTRATIO       -0.6058      0.129     -4.711      0.000      -0.859      -0.352\n",
       "==============================================================================\n",
       "Omnibus:                       25.820   Durbin-Watson:                   1.815\n",
       "Prob(Omnibus):                  0.000   Jarque-Bera (JB):               75.628\n",
       "Skew:                           0.478   Prob(JB):                     3.78e-17\n",
       "Kurtosis:                       5.849   Cond. No.                     1.36e+03\n",
       "==============================================================================\n",
       "\n",
       "Notes:\n",
       "[1] Standard Errors assume that the covariance matrix of the errors is correctly specified.\n",
       "[2] The condition number is large, 1.36e+03. This might indicate that there are\n",
       "strong multicollinearity or other numerical problems.\n",
       "\"\"\""
      ]
     },
     "execution_count": 79,
     "metadata": {},
     "output_type": "execute_result"
    }
   ],
   "source": [
    "results.summary()"
   ]
  },
  {
   "cell_type": "code",
   "execution_count": null,
   "id": "76b39b90",
   "metadata": {},
   "outputs": [],
   "source": []
  }
 ],
 "metadata": {
  "kernelspec": {
   "display_name": "Python 3 (ipykernel)",
   "language": "python",
   "name": "python3"
  },
  "language_info": {
   "codemirror_mode": {
    "name": "ipython",
    "version": 3
   },
   "file_extension": ".py",
   "mimetype": "text/x-python",
   "name": "python",
   "nbconvert_exporter": "python",
   "pygments_lexer": "ipython3",
   "version": "3.11.3"
  }
 },
 "nbformat": 4,
 "nbformat_minor": 5
}
